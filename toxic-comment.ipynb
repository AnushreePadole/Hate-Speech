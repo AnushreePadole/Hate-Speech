{
 "cells": [
  {
   "cell_type": "markdown",
   "metadata": {},
   "source": [
    "# 0. Install Dependencies and Bring in Data"
   ]
  },
  {
   "cell_type": "code",
   "execution_count": 1,
   "metadata": {
    "execution": {
     "iopub.execute_input": "2025-04-02T07:32:55.381740Z",
     "iopub.status.busy": "2025-04-02T07:32:55.381400Z",
     "iopub.status.idle": "2025-04-02T07:32:57.134993Z",
     "shell.execute_reply": "2025-04-02T07:32:57.134170Z",
     "shell.execute_reply.started": "2025-04-02T07:32:55.381716Z"
    },
    "tags": [],
    "trusted": true
   },
   "outputs": [
    {
     "name": "stdout",
     "output_type": "stream",
     "text": [
      "Defaulting to user installation because normal site-packages is not writeable\n",
      "Requirement already satisfied: tensorflow in c:\\users\\atharva darkonde\\appdata\\roaming\\python\\python312\\site-packages (2.19.0)\n",
      "Collecting tensorflow-gpu\n",
      "  Using cached tensorflow-gpu-2.12.0.tar.gz (2.6 kB)\n",
      "  Preparing metadata (setup.py): started\n",
      "  Preparing metadata (setup.py): finished with status 'error'\n"
     ]
    },
    {
     "name": "stderr",
     "output_type": "stream",
     "text": [
      "  error: subprocess-exited-with-error\n",
      "  \n",
      "  × python setup.py egg_info did not run successfully.\n",
      "  │ exit code: 1\n",
      "  ╰─> [44 lines of output]\n",
      "      Traceback (most recent call last):\n",
      "        File \"C:\\Users\\Atharva Darkonde\\AppData\\Roaming\\Python\\Python312\\site-packages\\packaging\\requirements.py\", line 36, in __init__\n",
      "          parsed = _parse_requirement(requirement_string)\n",
      "                   ^^^^^^^^^^^^^^^^^^^^^^^^^^^^^^^^^^^^^^\n",
      "        File \"C:\\Users\\Atharva Darkonde\\AppData\\Roaming\\Python\\Python312\\site-packages\\packaging\\_parser.py\", line 62, in parse_requirement\n",
      "          return _parse_requirement(Tokenizer(source, rules=DEFAULT_RULES))\n",
      "                 ^^^^^^^^^^^^^^^^^^^^^^^^^^^^^^^^^^^^^^^^^^^^^^^^^^^^^^^^^^\n",
      "        File \"C:\\Users\\Atharva Darkonde\\AppData\\Roaming\\Python\\Python312\\site-packages\\packaging\\_parser.py\", line 80, in _parse_requirement\n",
      "          url, specifier, marker = _parse_requirement_details(tokenizer)\n",
      "                                   ^^^^^^^^^^^^^^^^^^^^^^^^^^^^^^^^^^^^^\n",
      "        File \"C:\\Users\\Atharva Darkonde\\AppData\\Roaming\\Python\\Python312\\site-packages\\packaging\\_parser.py\", line 124, in _parse_requirement_details\n",
      "          marker = _parse_requirement_marker(\n",
      "                   ^^^^^^^^^^^^^^^^^^^^^^^^^^\n",
      "        File \"C:\\Users\\Atharva Darkonde\\AppData\\Roaming\\Python\\Python312\\site-packages\\packaging\\_parser.py\", line 145, in _parse_requirement_marker\n",
      "          tokenizer.raise_syntax_error(\n",
      "        File \"C:\\Users\\Atharva Darkonde\\AppData\\Roaming\\Python\\Python312\\site-packages\\packaging\\_tokenizer.py\", line 167, in raise_syntax_error\n",
      "          raise ParserSyntaxError(\n",
      "      packaging._tokenizer.ParserSyntaxError: Expected end or semicolon (after name and no valid version specifier)\n",
      "          python_version>\"3.7\"\n",
      "                        ^\n",
      "      \n",
      "      The above exception was the direct cause of the following exception:\n",
      "      \n",
      "      Traceback (most recent call last):\n",
      "        File \"<string>\", line 2, in <module>\n",
      "        File \"<pip-setuptools-caller>\", line 34, in <module>\n",
      "        File \"C:\\Users\\Atharva Darkonde\\AppData\\Local\\Temp\\pip-install-nnhd2cn4\\tensorflow-gpu_cb94798f434943bf903bd20427433d10\\setup.py\", line 40, in <module>\n",
      "          setuptools.setup()\n",
      "        File \"C:\\Users\\Atharva Darkonde\\AppData\\Roaming\\Python\\Python312\\site-packages\\setuptools\\__init__.py\", line 116, in setup\n",
      "          _install_setup_requires(attrs)\n",
      "        File \"C:\\Users\\Atharva Darkonde\\AppData\\Roaming\\Python\\Python312\\site-packages\\setuptools\\__init__.py\", line 87, in _install_setup_requires\n",
      "          dist.parse_config_files(ignore_option_errors=True)\n",
      "        File \"C:\\Users\\Atharva Darkonde\\AppData\\Roaming\\Python\\Python312\\site-packages\\setuptools\\dist.py\", line 654, in parse_config_files\n",
      "          self._finalize_requires()\n",
      "        File \"C:\\Users\\Atharva Darkonde\\AppData\\Roaming\\Python\\Python312\\site-packages\\setuptools\\dist.py\", line 380, in _finalize_requires\n",
      "          self._normalize_requires()\n",
      "        File \"C:\\Users\\Atharva Darkonde\\AppData\\Roaming\\Python\\Python312\\site-packages\\setuptools\\dist.py\", line 398, in _normalize_requires\n",
      "          self.install_requires = list_(map(str, _reqs.parse(install_requires)))\n",
      "                                  ^^^^^^^^^^^^^^^^^^^^^^^^^^^^^^^^^^^^^^^^^^^^^^\n",
      "        File \"C:\\Users\\Atharva Darkonde\\AppData\\Roaming\\Python\\Python312\\site-packages\\packaging\\requirements.py\", line 38, in __init__\n",
      "          raise InvalidRequirement(str(e)) from e\n",
      "      packaging.requirements.InvalidRequirement: Expected end or semicolon (after name and no valid version specifier)\n",
      "          python_version>\"3.7\"\n",
      "                        ^\n",
      "      [end of output]\n",
      "  \n",
      "  note: This error originates from a subprocess, and is likely not a problem with pip.\n",
      "error: metadata-generation-failed\n",
      "\n",
      "× Encountered error while generating package metadata.\n",
      "╰─> See above for output.\n",
      "\n",
      "note: This is an issue with the package mentioned above, not pip.\n",
      "hint: See above for details.\n"
     ]
    }
   ],
   "source": [
    "!pip install tensorflow tensorflow-gpu pandas matplotlib sklearn"
   ]
  },
  {
   "cell_type": "code",
   "execution_count": 3,
   "metadata": {
    "execution": {
     "iopub.execute_input": "2025-04-02T07:32:57.136332Z",
     "iopub.status.busy": "2025-04-02T07:32:57.136125Z",
     "iopub.status.idle": "2025-04-02T07:33:09.337043Z",
     "shell.execute_reply": "2025-04-02T07:33:09.336337Z",
     "shell.execute_reply.started": "2025-04-02T07:32:57.136313Z"
    },
    "tags": [],
    "trusted": true
   },
   "outputs": [],
   "source": [
    "import os\n",
    "import pandas as pd\n",
    "import tensorflow as tf\n",
    "import numpy as np"
   ]
  },
  {
   "cell_type": "code",
   "execution_count": 4,
   "metadata": {
    "execution": {
     "iopub.execute_input": "2025-04-02T07:33:09.338933Z",
     "iopub.status.busy": "2025-04-02T07:33:09.338382Z",
     "iopub.status.idle": "2025-04-02T07:33:10.846684Z",
     "shell.execute_reply": "2025-04-02T07:33:10.845972Z",
     "shell.execute_reply.started": "2025-04-02T07:33:09.338907Z"
    },
    "tags": [],
    "trusted": true
   },
   "outputs": [],
   "source": [
    "df = pd.read_csv(os.path.join('jigsaw-toxic-comment-classification-challenge','train.csv', 'train.csv'))"
   ]
  },
  {
   "cell_type": "code",
   "execution_count": 3,
   "metadata": {
    "execution": {
     "iopub.execute_input": "2025-04-02T07:33:10.848102Z",
     "iopub.status.busy": "2025-04-02T07:33:10.847839Z",
     "iopub.status.idle": "2025-04-02T07:33:10.871055Z",
     "shell.execute_reply": "2025-04-02T07:33:10.870351Z",
     "shell.execute_reply.started": "2025-04-02T07:33:10.848081Z"
    },
    "tags": [],
    "trusted": true
   },
   "outputs": [
    {
     "data": {
      "text/html": [
       "<div>\n",
       "<style scoped>\n",
       "    .dataframe tbody tr th:only-of-type {\n",
       "        vertical-align: middle;\n",
       "    }\n",
       "\n",
       "    .dataframe tbody tr th {\n",
       "        vertical-align: top;\n",
       "    }\n",
       "\n",
       "    .dataframe thead th {\n",
       "        text-align: right;\n",
       "    }\n",
       "</style>\n",
       "<table border=\"1\" class=\"dataframe\">\n",
       "  <thead>\n",
       "    <tr style=\"text-align: right;\">\n",
       "      <th></th>\n",
       "      <th>id</th>\n",
       "      <th>comment_text</th>\n",
       "      <th>toxic</th>\n",
       "      <th>severe_toxic</th>\n",
       "      <th>obscene</th>\n",
       "      <th>threat</th>\n",
       "      <th>insult</th>\n",
       "      <th>identity_hate</th>\n",
       "    </tr>\n",
       "  </thead>\n",
       "  <tbody>\n",
       "    <tr>\n",
       "      <th>0</th>\n",
       "      <td>0000997932d777bf</td>\n",
       "      <td>Explanation\\nWhy the edits made under my usern...</td>\n",
       "      <td>0</td>\n",
       "      <td>0</td>\n",
       "      <td>0</td>\n",
       "      <td>0</td>\n",
       "      <td>0</td>\n",
       "      <td>0</td>\n",
       "    </tr>\n",
       "    <tr>\n",
       "      <th>1</th>\n",
       "      <td>000103f0d9cfb60f</td>\n",
       "      <td>D'aww! He matches this background colour I'm s...</td>\n",
       "      <td>0</td>\n",
       "      <td>0</td>\n",
       "      <td>0</td>\n",
       "      <td>0</td>\n",
       "      <td>0</td>\n",
       "      <td>0</td>\n",
       "    </tr>\n",
       "    <tr>\n",
       "      <th>2</th>\n",
       "      <td>000113f07ec002fd</td>\n",
       "      <td>Hey man, I'm really not trying to edit war. It...</td>\n",
       "      <td>0</td>\n",
       "      <td>0</td>\n",
       "      <td>0</td>\n",
       "      <td>0</td>\n",
       "      <td>0</td>\n",
       "      <td>0</td>\n",
       "    </tr>\n",
       "    <tr>\n",
       "      <th>3</th>\n",
       "      <td>0001b41b1c6bb37e</td>\n",
       "      <td>\"\\nMore\\nI can't make any real suggestions on ...</td>\n",
       "      <td>0</td>\n",
       "      <td>0</td>\n",
       "      <td>0</td>\n",
       "      <td>0</td>\n",
       "      <td>0</td>\n",
       "      <td>0</td>\n",
       "    </tr>\n",
       "    <tr>\n",
       "      <th>4</th>\n",
       "      <td>0001d958c54c6e35</td>\n",
       "      <td>You, sir, are my hero. Any chance you remember...</td>\n",
       "      <td>0</td>\n",
       "      <td>0</td>\n",
       "      <td>0</td>\n",
       "      <td>0</td>\n",
       "      <td>0</td>\n",
       "      <td>0</td>\n",
       "    </tr>\n",
       "  </tbody>\n",
       "</table>\n",
       "</div>"
      ],
      "text/plain": [
       "                 id                                       comment_text  toxic  \\\n",
       "0  0000997932d777bf  Explanation\\nWhy the edits made under my usern...      0   \n",
       "1  000103f0d9cfb60f  D'aww! He matches this background colour I'm s...      0   \n",
       "2  000113f07ec002fd  Hey man, I'm really not trying to edit war. It...      0   \n",
       "3  0001b41b1c6bb37e  \"\\nMore\\nI can't make any real suggestions on ...      0   \n",
       "4  0001d958c54c6e35  You, sir, are my hero. Any chance you remember...      0   \n",
       "\n",
       "   severe_toxic  obscene  threat  insult  identity_hate  \n",
       "0             0        0       0       0              0  \n",
       "1             0        0       0       0              0  \n",
       "2             0        0       0       0              0  \n",
       "3             0        0       0       0              0  \n",
       "4             0        0       0       0              0  "
      ]
     },
     "execution_count": 3,
     "metadata": {},
     "output_type": "execute_result"
    }
   ],
   "source": [
    "df.head()"
   ]
  },
  {
   "cell_type": "markdown",
   "metadata": {},
   "source": [
    "# 1. Preprocess"
   ]
  },
  {
   "cell_type": "code",
   "execution_count": 4,
   "metadata": {
    "execution": {
     "iopub.execute_input": "2025-04-02T07:33:10.872174Z",
     "iopub.status.busy": "2025-04-02T07:33:10.871940Z",
     "iopub.status.idle": "2025-04-02T07:33:12.734797Z",
     "shell.execute_reply": "2025-04-02T07:33:12.733864Z",
     "shell.execute_reply.started": "2025-04-02T07:33:10.872153Z"
    },
    "tags": [],
    "trusted": true
   },
   "outputs": [
    {
     "name": "stdout",
     "output_type": "stream",
     "text": [
      "Package                   Version\n",
      "------------------------- -----------\n",
      "absl-py                   2.1.0\n",
      "aiofiles                  23.2.1\n",
      "altair                    5.5.0\n",
      "annotated-types           0.7.0\n",
      "anyio                     4.4.0\n",
      "asgiref                   3.8.1\n",
      "asttokens                 2.4.1\n",
      "astunparse                1.6.3\n",
      "attrs                     25.3.0\n",
      "beautifulsoup4            4.13.3\n",
      "blinker                   1.8.2\n",
      "cachetools                5.5.2\n",
      "certifi                   2024.7.4\n",
      "charset-normalizer        3.4.1\n",
      "click                     8.1.7\n",
      "colorama                  0.4.6\n",
      "comm                      0.2.2\n",
      "comtypes                  1.4.5\n",
      "contourpy                 1.3.0\n",
      "cycler                    0.12.1\n",
      "debugpy                   1.8.5\n",
      "decorator                 5.1.1\n",
      "distlib                   0.3.9\n",
      "distro                    1.9.0\n",
      "Django                    5.1.7\n",
      "executing                 2.1.0\n",
      "extensions                0.4\n",
      "fastapi                   0.115.12\n",
      "feedparser                6.0.11\n",
      "ffmpy                     0.5.0\n",
      "filelock                  3.17.0\n",
      "Flask                     3.0.3\n",
      "Flask-Cors                4.0.1\n",
      "flatbuffers               25.2.10\n",
      "fonttools                 4.54.1\n",
      "fsspec                    2025.2.0\n",
      "gast                      0.6.0\n",
      "gitdb                     4.0.12\n",
      "GitPython                 3.1.44\n",
      "google-pasta              0.2.0\n",
      "gradio                    5.23.1\n",
      "gradio_client             1.8.0\n",
      "groovy                    0.1.2\n",
      "grpcio                    1.70.0\n",
      "h11                       0.14.0\n",
      "h5py                      3.13.0\n",
      "httpcore                  1.0.5\n",
      "httpx                     0.27.0\n",
      "huggingface-hub           0.29.0\n",
      "idna                      3.7\n",
      "ipykernel                 6.29.5\n",
      "ipython                   8.27.0\n",
      "itsdangerous              2.2.0\n",
      "jedi                      0.19.1\n",
      "Jinja2                    3.1.4\n",
      "jsonschema                4.23.0\n",
      "jsonschema-specifications 2024.10.1\n",
      "jupyter_client            8.6.2\n",
      "jupyter_core              5.7.2\n",
      "keras                     3.8.0\n",
      "kiwisolver                1.4.7\n",
      "libclang                  18.1.1\n",
      "lxml                      5.3.2\n",
      "Markdown                  3.7\n",
      "markdown-it-py            3.0.0\n",
      "MarkupSafe                2.1.5\n",
      "matplotlib                3.9.2\n",
      "matplotlib-inline         0.1.7\n",
      "mdurl                     0.1.2\n",
      "ml_dtypes                 0.5.1\n",
      "mpmath                    1.3.0\n",
      "namex                     0.0.8\n",
      "narwhals                  1.32.0\n",
      "nest-asyncio              1.6.0\n",
      "networkx                  3.4.2\n",
      "numpy                     2.0.2\n",
      "ollama                    0.4.7\n",
      "openai                    1.37.0\n",
      "opencv-python-headless    4.11.0.86\n",
      "opt_einsum                3.4.0\n",
      "optree                    0.14.1\n",
      "orjson                    3.10.16\n",
      "packaging                 24.1\n",
      "pandas                    2.2.3\n",
      "parso                     0.8.4\n",
      "pillow                    10.4.0\n",
      "pip                       25.0.1\n",
      "pipenv                    2024.4.1\n",
      "platformdirs              4.2.2\n",
      "prompt_toolkit            3.0.47\n",
      "protobuf                  5.29.3\n",
      "psutil                    6.0.0\n",
      "pure_eval                 0.2.3\n",
      "pyarrow                   19.0.1\n",
      "pydantic                  2.10.6\n",
      "pydantic_core             2.27.2\n",
      "pydeck                    0.9.1\n",
      "pydub                     0.25.1\n",
      "Pygments                  2.18.0\n",
      "pyparsing                 3.1.4\n",
      "pypiwin32                 223\n",
      "python-dateutil           2.9.0.post0\n",
      "python-multipart          0.0.20\n",
      "pyttsx                    1.1\n",
      "pyttsx3                   2.90\n",
      "pytz                      2024.2\n",
      "pywin32                   306\n",
      "PyYAML                    6.0.2\n",
      "pyzmq                     26.2.0\n",
      "referencing               0.36.2\n",
      "regex                     2024.11.6\n",
      "requests                  2.32.3\n",
      "rich                      13.9.4\n",
      "rpds-py                   0.23.1\n",
      "ruff                      0.11.2\n",
      "safehttpx                 0.1.6\n",
      "safetensors               0.5.2\n",
      "seaborn                   0.13.2\n",
      "semantic-version          2.10.0\n",
      "setuptools                75.8.0\n",
      "sgmllib3k                 1.0.0\n",
      "shellingham               1.5.4\n",
      "six                       1.16.0\n",
      "smmap                     5.0.2\n",
      "sniffio                   1.3.1\n",
      "soupsieve                 2.6\n",
      "sqlparse                  0.5.3\n",
      "stack-data                0.6.3\n",
      "starlette                 0.46.1\n",
      "streamlit                 1.43.2\n",
      "sympy                     1.13.1\n",
      "tenacity                  9.0.0\n",
      "tensorboard               2.19.0\n",
      "tensorboard-data-server   0.7.2\n",
      "tensorflow                2.19.0\n",
      "tensorflow_intel          2.18.0\n",
      "termcolor                 2.5.0\n",
      "tf_keras                  2.19.0\n",
      "tokenizers                0.21.0\n",
      "toml                      0.10.2\n",
      "tomlkit                   0.13.2\n",
      "torch                     2.6.0\n",
      "tornado                   6.4.1\n",
      "tqdm                      4.66.4\n",
      "traitlets                 5.14.3\n",
      "transformers              4.49.0\n",
      "typer                     0.15.2\n",
      "typing                    3.7.4.3\n",
      "typing_extensions         4.12.2\n",
      "tzdata                    2024.2\n",
      "urllib3                   2.3.0\n",
      "uvicorn                   0.34.0\n",
      "virtualenv                20.29.3\n",
      "watchdog                  6.0.0\n",
      "wcwidth                   0.2.13\n",
      "websockets                15.0.1\n",
      "Werkzeug                  3.0.3\n",
      "wheel                     0.45.1\n",
      "wrapt                     1.17.2\n"
     ]
    }
   ],
   "source": [
    "!pip list"
   ]
  },
  {
   "cell_type": "code",
   "execution_count": 5,
   "metadata": {
    "execution": {
     "iopub.execute_input": "2025-04-02T07:33:12.736036Z",
     "iopub.status.busy": "2025-04-02T07:33:12.735745Z",
     "iopub.status.idle": "2025-04-02T07:33:12.800884Z",
     "shell.execute_reply": "2025-04-02T07:33:12.800194Z",
     "shell.execute_reply.started": "2025-04-02T07:33:12.736011Z"
    },
    "tags": [],
    "trusted": true
   },
   "outputs": [],
   "source": [
    "from tensorflow.keras.layers import TextVectorization"
   ]
  },
  {
   "cell_type": "code",
   "execution_count": 6,
   "metadata": {
    "execution": {
     "iopub.execute_input": "2025-04-02T07:33:12.801933Z",
     "iopub.status.busy": "2025-04-02T07:33:12.801672Z",
     "iopub.status.idle": "2025-04-02T07:33:12.816521Z",
     "shell.execute_reply": "2025-04-02T07:33:12.815817Z",
     "shell.execute_reply.started": "2025-04-02T07:33:12.801899Z"
    },
    "tags": [],
    "trusted": true
   },
   "outputs": [],
   "source": [
    "X = df['comment_text']\n",
    "y = df[df.columns[2:]].values"
   ]
  },
  {
   "cell_type": "code",
   "execution_count": null,
   "metadata": {},
   "outputs": [],
   "source": []
  },
  {
   "cell_type": "code",
   "execution_count": 7,
   "metadata": {
    "execution": {
     "iopub.execute_input": "2025-04-02T07:33:12.819536Z",
     "iopub.status.busy": "2025-04-02T07:33:12.818992Z",
     "iopub.status.idle": "2025-04-02T07:33:12.832360Z",
     "shell.execute_reply": "2025-04-02T07:33:12.831455Z",
     "shell.execute_reply.started": "2025-04-02T07:33:12.819225Z"
    },
    "tags": [],
    "trusted": true
   },
   "outputs": [],
   "source": [
    "MAX_FEATURES = 200000 # number of words in the vocab"
   ]
  },
  {
   "cell_type": "code",
   "execution_count": 8,
   "metadata": {
    "execution": {
     "iopub.execute_input": "2025-04-02T07:33:12.834356Z",
     "iopub.status.busy": "2025-04-02T07:33:12.834159Z",
     "iopub.status.idle": "2025-04-02T07:33:13.702432Z",
     "shell.execute_reply": "2025-04-02T07:33:13.701629Z",
     "shell.execute_reply.started": "2025-04-02T07:33:12.834339Z"
    },
    "tags": [],
    "trusted": true
   },
   "outputs": [],
   "source": [
    "vectorizer = TextVectorization(max_tokens=MAX_FEATURES,\n",
    "                               output_sequence_length=1800,\n",
    "                               output_mode='int')"
   ]
  },
  {
   "cell_type": "code",
   "execution_count": 10,
   "metadata": {
    "execution": {
     "iopub.execute_input": "2025-04-02T07:33:13.703495Z",
     "iopub.status.busy": "2025-04-02T07:33:13.703265Z",
     "iopub.status.idle": "2025-04-02T07:33:18.265143Z",
     "shell.execute_reply": "2025-04-02T07:33:18.264401Z",
     "shell.execute_reply.started": "2025-04-02T07:33:13.703476Z"
    },
    "tags": [],
    "trusted": true
   },
   "outputs": [
    {
     "ename": "",
     "evalue": "",
     "output_type": "error",
     "traceback": [
      "\u001b[1;31mThe Kernel crashed while executing code in the current cell or a previous cell. \n",
      "\u001b[1;31mPlease review the code in the cell(s) to identify a possible cause of the failure. \n",
      "\u001b[1;31mClick <a href='https://aka.ms/vscodeJupyterKernelCrash'>here</a> for more info. \n",
      "\u001b[1;31mView Jupyter <a href='command:jupyter.viewOutput'>log</a> for further details."
     ]
    }
   ],
   "source": [
    "vectorizer.adapt(X.values)"
   ]
  },
  {
   "cell_type": "code",
   "execution_count": 10,
   "metadata": {
    "execution": {
     "iopub.execute_input": "2025-04-02T07:33:18.275905Z",
     "iopub.status.busy": "2025-04-02T07:33:18.275628Z",
     "iopub.status.idle": "2025-04-02T07:33:30.055583Z",
     "shell.execute_reply": "2025-04-02T07:33:30.054619Z",
     "shell.execute_reply.started": "2025-04-02T07:33:18.275870Z"
    },
    "tags": [],
    "trusted": true
   },
   "outputs": [],
   "source": [
    "vectorized_text = vectorizer(X.values)"
   ]
  },
  {
   "cell_type": "code",
   "execution_count": 11,
   "metadata": {
    "execution": {
     "iopub.execute_input": "2025-04-02T07:33:30.057691Z",
     "iopub.status.busy": "2025-04-02T07:33:30.057450Z",
     "iopub.status.idle": "2025-04-02T07:33:30.086095Z",
     "shell.execute_reply": "2025-04-02T07:33:30.085226Z",
     "shell.execute_reply.started": "2025-04-02T07:33:30.057671Z"
    },
    "tags": [],
    "trusted": true
   },
   "outputs": [],
   "source": [
    "#MCSHBAP - map, chache, shuffle, batch, prefetch  from_tensor_slices, list_file\n",
    "dataset = tf.data.Dataset.from_tensor_slices((vectorized_text, y))\n",
    "dataset = dataset.cache()\n",
    "dataset = dataset.shuffle(160000)\n",
    "dataset = dataset.batch(16)\n",
    "dataset = dataset.prefetch(8) # helps bottlenecks"
   ]
  },
  {
   "cell_type": "code",
   "execution_count": 12,
   "metadata": {
    "execution": {
     "iopub.execute_input": "2025-04-02T07:33:30.087265Z",
     "iopub.status.busy": "2025-04-02T07:33:30.086966Z",
     "iopub.status.idle": "2025-04-02T07:33:30.101331Z",
     "shell.execute_reply": "2025-04-02T07:33:30.100533Z",
     "shell.execute_reply.started": "2025-04-02T07:33:30.087245Z"
    },
    "tags": [],
    "trusted": true
   },
   "outputs": [],
   "source": [
    "train = dataset.take(int(len(dataset)*.7))\n",
    "val = dataset.skip(int(len(dataset)*.7)).take(int(len(dataset)*.2))\n",
    "test = dataset.skip(int(len(dataset)*.9)).take(int(len(dataset)*.1))"
   ]
  },
  {
   "cell_type": "markdown",
   "metadata": {},
   "source": [
    "# 2. Create Sequential Model"
   ]
  },
  {
   "cell_type": "code",
   "execution_count": 13,
   "metadata": {
    "execution": {
     "iopub.execute_input": "2025-04-02T07:33:30.102328Z",
     "iopub.status.busy": "2025-04-02T07:33:30.102091Z",
     "iopub.status.idle": "2025-04-02T07:33:30.109670Z",
     "shell.execute_reply": "2025-04-02T07:33:30.108824Z",
     "shell.execute_reply.started": "2025-04-02T07:33:30.102309Z"
    },
    "tags": [],
    "trusted": true
   },
   "outputs": [],
   "source": [
    "from tensorflow.keras.models import Sequential\n",
    "from tensorflow.keras.layers import LSTM, Dropout, Bidirectional, Dense, Embedding"
   ]
  },
  {
   "cell_type": "code",
   "execution_count": 14,
   "metadata": {
    "execution": {
     "iopub.execute_input": "2025-04-02T07:33:30.110774Z",
     "iopub.status.busy": "2025-04-02T07:33:30.110515Z",
     "iopub.status.idle": "2025-04-02T07:33:30.145756Z",
     "shell.execute_reply": "2025-04-02T07:33:30.144961Z",
     "shell.execute_reply.started": "2025-04-02T07:33:30.110755Z"
    },
    "tags": [],
    "trusted": true
   },
   "outputs": [],
   "source": [
    "model = Sequential()\n",
    "# Create the embedding layer \n",
    "model.add(Embedding(MAX_FEATURES+1, 32))\n",
    "# Bidirectional LSTM Layer\n",
    "model.add(Bidirectional(LSTM(32, activation='tanh')))\n",
    "# Feature extractor Fully connected layers\n",
    "model.add(Dense(128, activation='relu'))\n",
    "model.add(Dense(256, activation='relu'))\n",
    "model.add(Dense(128, activation='relu'))\n",
    "# Final layer \n",
    "model.add(Dense(6, activation='sigmoid'))"
   ]
  },
  {
   "cell_type": "code",
   "execution_count": 16,
   "metadata": {
    "execution": {
     "iopub.execute_input": "2025-04-02T07:33:30.146898Z",
     "iopub.status.busy": "2025-04-02T07:33:30.146628Z",
     "iopub.status.idle": "2025-04-02T07:33:30.162314Z",
     "shell.execute_reply": "2025-04-02T07:33:30.161683Z",
     "shell.execute_reply.started": "2025-04-02T07:33:30.146856Z"
    },
    "tags": [],
    "trusted": true
   },
   "outputs": [],
   "source": [
    "model.compile(loss='BinaryCrossentropy', optimizer='Adam')"
   ]
  },
  {
   "cell_type": "code",
   "execution_count": 32,
   "metadata": {
    "execution": {
     "iopub.execute_input": "2025-04-02T07:33:30.163440Z",
     "iopub.status.busy": "2025-04-02T07:33:30.163160Z",
     "iopub.status.idle": "2025-04-02T07:33:30.182474Z",
     "shell.execute_reply": "2025-04-02T07:33:30.181760Z",
     "shell.execute_reply.started": "2025-04-02T07:33:30.163411Z"
    },
    "tags": [],
    "trusted": true
   },
   "outputs": [
    {
     "data": {
      "text/html": [
       "<pre style=\"white-space:pre;overflow-x:auto;line-height:normal;font-family:Menlo,'DejaVu Sans Mono',consolas,'Courier New',monospace\"><span style=\"font-weight: bold\">Model: \"sequential\"</span>\n",
       "</pre>\n"
      ],
      "text/plain": [
       "\u001b[1mModel: \"sequential\"\u001b[0m\n"
      ]
     },
     "metadata": {},
     "output_type": "display_data"
    },
    {
     "data": {
      "text/html": [
       "<pre style=\"white-space:pre;overflow-x:auto;line-height:normal;font-family:Menlo,'DejaVu Sans Mono',consolas,'Courier New',monospace\">┏━━━━━━━━━━━━━━━━━━━━━━━━━━━━━━━━━┳━━━━━━━━━━━━━━━━━━━━━━━━┳━━━━━━━━━━━━━━━┓\n",
       "┃<span style=\"font-weight: bold\"> Layer (type)                    </span>┃<span style=\"font-weight: bold\"> Output Shape           </span>┃<span style=\"font-weight: bold\">       Param # </span>┃\n",
       "┡━━━━━━━━━━━━━━━━━━━━━━━━━━━━━━━━━╇━━━━━━━━━━━━━━━━━━━━━━━━╇━━━━━━━━━━━━━━━┩\n",
       "│ embedding (<span style=\"color: #0087ff; text-decoration-color: #0087ff\">Embedding</span>)           │ (<span style=\"color: #00d7ff; text-decoration-color: #00d7ff\">None</span>, <span style=\"color: #00af00; text-decoration-color: #00af00\">1800</span>, <span style=\"color: #00af00; text-decoration-color: #00af00\">32</span>)       │     <span style=\"color: #00af00; text-decoration-color: #00af00\">6,400,032</span> │\n",
       "├─────────────────────────────────┼────────────────────────┼───────────────┤\n",
       "│ bidirectional (<span style=\"color: #0087ff; text-decoration-color: #0087ff\">Bidirectional</span>)   │ (<span style=\"color: #00d7ff; text-decoration-color: #00d7ff\">None</span>, <span style=\"color: #00af00; text-decoration-color: #00af00\">64</span>)             │        <span style=\"color: #00af00; text-decoration-color: #00af00\">16,640</span> │\n",
       "├─────────────────────────────────┼────────────────────────┼───────────────┤\n",
       "│ dense (<span style=\"color: #0087ff; text-decoration-color: #0087ff\">Dense</span>)                   │ (<span style=\"color: #00d7ff; text-decoration-color: #00d7ff\">None</span>, <span style=\"color: #00af00; text-decoration-color: #00af00\">128</span>)            │         <span style=\"color: #00af00; text-decoration-color: #00af00\">8,320</span> │\n",
       "├─────────────────────────────────┼────────────────────────┼───────────────┤\n",
       "│ dense_1 (<span style=\"color: #0087ff; text-decoration-color: #0087ff\">Dense</span>)                 │ (<span style=\"color: #00d7ff; text-decoration-color: #00d7ff\">None</span>, <span style=\"color: #00af00; text-decoration-color: #00af00\">256</span>)            │        <span style=\"color: #00af00; text-decoration-color: #00af00\">33,024</span> │\n",
       "├─────────────────────────────────┼────────────────────────┼───────────────┤\n",
       "│ dense_2 (<span style=\"color: #0087ff; text-decoration-color: #0087ff\">Dense</span>)                 │ (<span style=\"color: #00d7ff; text-decoration-color: #00d7ff\">None</span>, <span style=\"color: #00af00; text-decoration-color: #00af00\">128</span>)            │        <span style=\"color: #00af00; text-decoration-color: #00af00\">32,896</span> │\n",
       "├─────────────────────────────────┼────────────────────────┼───────────────┤\n",
       "│ dense_3 (<span style=\"color: #0087ff; text-decoration-color: #0087ff\">Dense</span>)                 │ (<span style=\"color: #00d7ff; text-decoration-color: #00d7ff\">None</span>, <span style=\"color: #00af00; text-decoration-color: #00af00\">6</span>)              │           <span style=\"color: #00af00; text-decoration-color: #00af00\">774</span> │\n",
       "└─────────────────────────────────┴────────────────────────┴───────────────┘\n",
       "</pre>\n"
      ],
      "text/plain": [
       "┏━━━━━━━━━━━━━━━━━━━━━━━━━━━━━━━━━┳━━━━━━━━━━━━━━━━━━━━━━━━┳━━━━━━━━━━━━━━━┓\n",
       "┃\u001b[1m \u001b[0m\u001b[1mLayer (type)                   \u001b[0m\u001b[1m \u001b[0m┃\u001b[1m \u001b[0m\u001b[1mOutput Shape          \u001b[0m\u001b[1m \u001b[0m┃\u001b[1m \u001b[0m\u001b[1m      Param #\u001b[0m\u001b[1m \u001b[0m┃\n",
       "┡━━━━━━━━━━━━━━━━━━━━━━━━━━━━━━━━━╇━━━━━━━━━━━━━━━━━━━━━━━━╇━━━━━━━━━━━━━━━┩\n",
       "│ embedding (\u001b[38;5;33mEmbedding\u001b[0m)           │ (\u001b[38;5;45mNone\u001b[0m, \u001b[38;5;34m1800\u001b[0m, \u001b[38;5;34m32\u001b[0m)       │     \u001b[38;5;34m6,400,032\u001b[0m │\n",
       "├─────────────────────────────────┼────────────────────────┼───────────────┤\n",
       "│ bidirectional (\u001b[38;5;33mBidirectional\u001b[0m)   │ (\u001b[38;5;45mNone\u001b[0m, \u001b[38;5;34m64\u001b[0m)             │        \u001b[38;5;34m16,640\u001b[0m │\n",
       "├─────────────────────────────────┼────────────────────────┼───────────────┤\n",
       "│ dense (\u001b[38;5;33mDense\u001b[0m)                   │ (\u001b[38;5;45mNone\u001b[0m, \u001b[38;5;34m128\u001b[0m)            │         \u001b[38;5;34m8,320\u001b[0m │\n",
       "├─────────────────────────────────┼────────────────────────┼───────────────┤\n",
       "│ dense_1 (\u001b[38;5;33mDense\u001b[0m)                 │ (\u001b[38;5;45mNone\u001b[0m, \u001b[38;5;34m256\u001b[0m)            │        \u001b[38;5;34m33,024\u001b[0m │\n",
       "├─────────────────────────────────┼────────────────────────┼───────────────┤\n",
       "│ dense_2 (\u001b[38;5;33mDense\u001b[0m)                 │ (\u001b[38;5;45mNone\u001b[0m, \u001b[38;5;34m128\u001b[0m)            │        \u001b[38;5;34m32,896\u001b[0m │\n",
       "├─────────────────────────────────┼────────────────────────┼───────────────┤\n",
       "│ dense_3 (\u001b[38;5;33mDense\u001b[0m)                 │ (\u001b[38;5;45mNone\u001b[0m, \u001b[38;5;34m6\u001b[0m)              │           \u001b[38;5;34m774\u001b[0m │\n",
       "└─────────────────────────────────┴────────────────────────┴───────────────┘\n"
      ]
     },
     "metadata": {},
     "output_type": "display_data"
    },
    {
     "data": {
      "text/html": [
       "<pre style=\"white-space:pre;overflow-x:auto;line-height:normal;font-family:Menlo,'DejaVu Sans Mono',consolas,'Courier New',monospace\"><span style=\"font-weight: bold\"> Total params: </span><span style=\"color: #00af00; text-decoration-color: #00af00\">6,491,688</span> (24.76 MB)\n",
       "</pre>\n"
      ],
      "text/plain": [
       "\u001b[1m Total params: \u001b[0m\u001b[38;5;34m6,491,688\u001b[0m (24.76 MB)\n"
      ]
     },
     "metadata": {},
     "output_type": "display_data"
    },
    {
     "data": {
      "text/html": [
       "<pre style=\"white-space:pre;overflow-x:auto;line-height:normal;font-family:Menlo,'DejaVu Sans Mono',consolas,'Courier New',monospace\"><span style=\"font-weight: bold\"> Trainable params: </span><span style=\"color: #00af00; text-decoration-color: #00af00\">6,491,686</span> (24.76 MB)\n",
       "</pre>\n"
      ],
      "text/plain": [
       "\u001b[1m Trainable params: \u001b[0m\u001b[38;5;34m6,491,686\u001b[0m (24.76 MB)\n"
      ]
     },
     "metadata": {},
     "output_type": "display_data"
    },
    {
     "data": {
      "text/html": [
       "<pre style=\"white-space:pre;overflow-x:auto;line-height:normal;font-family:Menlo,'DejaVu Sans Mono',consolas,'Courier New',monospace\"><span style=\"font-weight: bold\"> Non-trainable params: </span><span style=\"color: #00af00; text-decoration-color: #00af00\">0</span> (0.00 B)\n",
       "</pre>\n"
      ],
      "text/plain": [
       "\u001b[1m Non-trainable params: \u001b[0m\u001b[38;5;34m0\u001b[0m (0.00 B)\n"
      ]
     },
     "metadata": {},
     "output_type": "display_data"
    },
    {
     "data": {
      "text/html": [
       "<pre style=\"white-space:pre;overflow-x:auto;line-height:normal;font-family:Menlo,'DejaVu Sans Mono',consolas,'Courier New',monospace\"><span style=\"font-weight: bold\"> Optimizer params: </span><span style=\"color: #00af00; text-decoration-color: #00af00\">2</span> (12.00 B)\n",
       "</pre>\n"
      ],
      "text/plain": [
       "\u001b[1m Optimizer params: \u001b[0m\u001b[38;5;34m2\u001b[0m (12.00 B)\n"
      ]
     },
     "metadata": {},
     "output_type": "display_data"
    },
    {
     "name": "stdout",
     "output_type": "stream",
     "text": [
      "\u001b[1m1/1\u001b[0m \u001b[32m━━━━━━━━━━━━━━━━━━━━\u001b[0m\u001b[37m\u001b[0m \u001b[1m0s\u001b[0m 205ms/step\n",
      "[7.8866822e-01 7.2185823e-04 3.2794494e-02 8.9074047e-03 1.7814541e-01\n",
      " 4.4356577e-02]\n",
      "\u001b[1m1/1\u001b[0m \u001b[32m━━━━━━━━━━━━━━━━━━━━\u001b[0m\u001b[37m\u001b[0m \u001b[1m0s\u001b[0m 241ms/step\n",
      "[7.8866822e-01 7.2185823e-04 3.2794494e-02 8.9074047e-03 1.7814541e-01\n",
      " 4.4356577e-02]\n",
      "\u001b[1m1/1\u001b[0m \u001b[32m━━━━━━━━━━━━━━━━━━━━\u001b[0m\u001b[37m\u001b[0m \u001b[1m0s\u001b[0m 239ms/step\n",
      "[0.9460672  0.02231286 0.4471473  0.02138855 0.7085281  0.11948346]\n",
      "\u001b[1m1/1\u001b[0m \u001b[32m━━━━━━━━━━━━━━━━━━━━\u001b[0m\u001b[37m\u001b[0m \u001b[1m0s\u001b[0m 270ms/step\n",
      "[0.7327299  0.12162042 0.1461107  0.20611739 0.2384896  0.27445322]\n",
      "\u001b[1m1/1\u001b[0m \u001b[32m━━━━━━━━━━━━━━━━━━━━\u001b[0m\u001b[37m\u001b[0m \u001b[1m0s\u001b[0m 236ms/step\n",
      "[0.760712   0.11312202 0.15198974 0.24345943 0.28234813 0.3377989 ]\n",
      "\u001b[1m1/1\u001b[0m \u001b[32m━━━━━━━━━━━━━━━━━━━━\u001b[0m\u001b[37m\u001b[0m \u001b[1m0s\u001b[0m 255ms/step\n",
      "[3.0061403e-02 2.1418744e-05 5.3457741e-04 4.4598529e-04 1.8938567e-03\n",
      " 1.3523201e-03]\n",
      "\u001b[1m1/1\u001b[0m \u001b[32m━━━━━━━━━━━━━━━━━━━━\u001b[0m\u001b[37m\u001b[0m \u001b[1m0s\u001b[0m 228ms/step\n",
      "[0.9753436  0.02062954 0.6002636  0.01247426 0.7767627  0.09258947]\n"
     ]
    }
   ],
   "source": [
    "model.summary()"
   ]
  },
  {
   "cell_type": "code",
   "execution_count": 18,
   "metadata": {
    "execution": {
     "iopub.execute_input": "2025-04-02T07:33:30.183538Z",
     "iopub.status.busy": "2025-04-02T07:33:30.183245Z",
     "iopub.status.idle": "2025-04-02T08:27:19.839519Z",
     "shell.execute_reply": "2025-04-02T08:27:19.838431Z",
     "shell.execute_reply.started": "2025-04-02T07:33:30.183502Z"
    },
    "tags": [],
    "trusted": true
   },
   "outputs": [
    {
     "name": "stdout",
     "output_type": "stream",
     "text": [
      "Epoch 1/5\n",
      "\u001b[1m6981/6981\u001b[0m \u001b[32m━━━━━━━━━━━━━━━━━━━━\u001b[0m\u001b[37m\u001b[0m \u001b[1m610s\u001b[0m 86ms/step - loss: 0.0831 - val_loss: 0.0443\n",
      "Epoch 2/5\n",
      "\u001b[1m6981/6981\u001b[0m \u001b[32m━━━━━━━━━━━━━━━━━━━━\u001b[0m\u001b[37m\u001b[0m \u001b[1m659s\u001b[0m 94ms/step - loss: 0.0474 - val_loss: 0.0391\n",
      "Epoch 3/5\n",
      "\u001b[1m6981/6981\u001b[0m \u001b[32m━━━━━━━━━━━━━━━━━━━━\u001b[0m\u001b[37m\u001b[0m \u001b[1m668s\u001b[0m 96ms/step - loss: 0.0413 - val_loss: 0.0359\n",
      "Epoch 4/5\n",
      "\u001b[1m6981/6981\u001b[0m \u001b[32m━━━━━━━━━━━━━━━━━━━━\u001b[0m\u001b[37m\u001b[0m \u001b[1m655s\u001b[0m 94ms/step - loss: 0.0353 - val_loss: 0.0302\n",
      "Epoch 5/5\n",
      "\u001b[1m6981/6981\u001b[0m \u001b[32m━━━━━━━━━━━━━━━━━━━━\u001b[0m\u001b[37m\u001b[0m \u001b[1m638s\u001b[0m 91ms/step - loss: 0.0316 - val_loss: 0.0286\n"
     ]
    }
   ],
   "source": [
    "history = model.fit(train, epochs=5, validation_data=val)"
   ]
  },
  {
   "cell_type": "code",
   "execution_count": 19,
   "metadata": {
    "execution": {
     "iopub.execute_input": "2025-04-02T08:27:19.841151Z",
     "iopub.status.busy": "2025-04-02T08:27:19.840740Z",
     "iopub.status.idle": "2025-04-02T08:27:20.054877Z",
     "shell.execute_reply": "2025-04-02T08:27:20.053871Z",
     "shell.execute_reply.started": "2025-04-02T08:27:19.841124Z"
    },
    "trusted": true
   },
   "outputs": [],
   "source": [
    "model.save('toxicity_after_train.h5')"
   ]
  },
  {
   "cell_type": "code",
   "execution_count": 19,
   "metadata": {
    "execution": {
     "iopub.execute_input": "2025-04-02T08:27:20.056239Z",
     "iopub.status.busy": "2025-04-02T08:27:20.055870Z",
     "iopub.status.idle": "2025-04-02T08:27:20.060020Z",
     "shell.execute_reply": "2025-04-02T08:27:20.059062Z",
     "shell.execute_reply.started": "2025-04-02T08:27:20.056214Z"
    },
    "tags": [],
    "trusted": true
   },
   "outputs": [],
   "source": [
    "from matplotlib import pyplot as plt"
   ]
  },
  {
   "cell_type": "code",
   "execution_count": 21,
   "metadata": {
    "execution": {
     "iopub.execute_input": "2025-04-02T08:27:20.061089Z",
     "iopub.status.busy": "2025-04-02T08:27:20.060783Z",
     "iopub.status.idle": "2025-04-02T08:27:20.403310Z",
     "shell.execute_reply": "2025-04-02T08:27:20.402399Z",
     "shell.execute_reply.started": "2025-04-02T08:27:20.061068Z"
    },
    "tags": [],
    "trusted": true
   },
   "outputs": [
    {
     "data": {
      "text/plain": [
       "<Figure size 800x500 with 0 Axes>"
      ]
     },
     "metadata": {},
     "output_type": "display_data"
    },
    {
     "data": {
      "image/png": "[encoded data removed]",
      "text/plain": [
       "<Figure size 640x480 with 1 Axes>"
      ]
     },
     "metadata": {},
     "output_type": "display_data"
    }
   ],
   "source": [
    "plt.figure(figsize=(8,5))\n",
    "pd.DataFrame(history.history).plot()\n",
    "plt.show()"
   ]
  },
  {
   "cell_type": "markdown",
   "metadata": {},
   "source": [
    "# 3. Make Predictions"
   ]
  },
  {
   "cell_type": "code",
   "execution_count": 20,
   "metadata": {
    "execution": {
     "iopub.execute_input": "2025-04-02T08:27:20.404551Z",
     "iopub.status.busy": "2025-04-02T08:27:20.404238Z",
     "iopub.status.idle": "2025-04-02T08:27:20.430698Z",
     "shell.execute_reply": "2025-04-02T08:27:20.429853Z",
     "shell.execute_reply.started": "2025-04-02T08:27:20.404511Z"
    },
    "tags": [],
    "trusted": true
   },
   "outputs": [],
   "source": [
    "input_text = vectorizer('You freaking suck! I am going to hit you.')"
   ]
  },
  {
   "cell_type": "code",
   "execution_count": 21,
   "metadata": {
    "execution": {
     "iopub.execute_input": "2025-04-02T08:29:33.145008Z",
     "iopub.status.busy": "2025-04-02T08:29:33.144629Z",
     "iopub.status.idle": "2025-04-02T08:29:33.150306Z",
     "shell.execute_reply": "2025-04-02T08:29:33.149341Z",
     "shell.execute_reply.started": "2025-04-02T08:29:33.144980Z"
    },
    "trusted": true
   },
   "outputs": [
    {
     "ename": "NameError",
     "evalue": "name 'res' is not defined",
     "output_type": "error",
     "traceback": [
      "\u001b[1;31m---------------------------------------------------------------------------\u001b[0m",
      "\u001b[1;31mNameError\u001b[0m                                 Traceback (most recent call last)",
      "Cell \u001b[1;32mIn[21], line 1\u001b[0m\n\u001b[1;32m----> 1\u001b[0m \u001b[38;5;28mprint\u001b[39m(\u001b[43mres\u001b[49m)\n",
      "\u001b[1;31mNameError\u001b[0m: name 'res' is not defined"
     ]
    }
   ],
   "source": [
    "print(res)"
   ]
  },
  {
   "cell_type": "code",
   "execution_count": 22,
   "metadata": {
    "execution": {
     "iopub.execute_input": "2025-04-02T08:29:09.345777Z",
     "iopub.status.busy": "2025-04-02T08:29:09.345384Z",
     "iopub.status.idle": "2025-04-02T08:29:09.775087Z",
     "shell.execute_reply": "2025-04-02T08:29:09.774299Z",
     "shell.execute_reply.started": "2025-04-02T08:29:09.345743Z"
    },
    "trusted": true
   },
   "outputs": [
    {
     "name": "stdout",
     "output_type": "stream",
     "text": [
      "Input shape: (1, 1800)\n",
      "\u001b[1m1/1\u001b[0m \u001b[32m━━━━━━━━━━━━━━━━━━━━\u001b[0m\u001b[37m\u001b[0m \u001b[1m3s\u001b[0m 3s/step\n"
     ]
    }
   ],
   "source": [
    "# Reshape the input to have a batch dimension\n",
    "input_text = vectorizer('You freaking suck! I am going to hit you.')\n",
    "input_text = np.expand_dims(input_text, axis=0)  # Add batch dimension\n",
    "\n",
    "# Check the shape before prediction\n",
    "print(f\"Input shape: {input_text.shape}\")\n",
    "\n",
    "# Now predict\n",
    "res = model.predict(input_text)"
   ]
  },
  {
   "cell_type": "code",
   "execution_count": 23,
   "metadata": {
    "execution": {
     "iopub.execute_input": "2025-04-02T08:27:20.434860Z",
     "iopub.status.busy": "2025-04-02T08:27:20.434597Z",
     "iopub.status.idle": "2025-04-02T08:27:20.839211Z",
     "shell.execute_reply": "2025-04-02T08:27:20.837920Z",
     "shell.execute_reply.started": "2025-04-02T08:27:20.434838Z"
    },
    "tags": [],
    "trusted": true
   },
   "outputs": [
    {
     "name": "stdout",
     "output_type": "stream",
     "text": [
      "\u001b[1m1/1\u001b[0m \u001b[32m━━━━━━━━━━━━━━━━━━━━\u001b[0m\u001b[37m\u001b[0m \u001b[1m0s\u001b[0m 159ms/step\n"
     ]
    }
   ],
   "source": [
    "res = model.predict(input_text)"
   ]
  },
  {
   "cell_type": "code",
   "execution_count": 25,
   "metadata": {
    "execution": {
     "iopub.status.busy": "2025-04-02T08:27:20.840348Z",
     "iopub.status.idle": "2025-04-02T08:27:20.840645Z",
     "shell.execute_reply": "2025-04-02T08:27:20.840528Z"
    },
    "jupyter": {
     "source_hidden": true
    },
    "trusted": true
   },
   "outputs": [
    {
     "data": {
      "text/plain": [
       "array([[0, 0, 0, 1, 0, 1]])"
      ]
     },
     "execution_count": 18,
     "metadata": {},
     "output_type": "execute_result"
    }
   ],
   "source": [
    "(res > 0.5).astype(int)"
   ]
  },
  {
   "cell_type": "code",
   "execution_count": 24,
   "metadata": {
    "execution": {
     "iopub.execute_input": "2025-04-02T08:29:58.851529Z",
     "iopub.status.busy": "2025-04-02T08:29:58.851160Z",
     "iopub.status.idle": "2025-04-02T08:30:01.606985Z",
     "shell.execute_reply": "2025-04-02T08:30:01.605931Z",
     "shell.execute_reply.started": "2025-04-02T08:29:58.851500Z"
    },
    "trusted": true
   },
   "outputs": [],
   "source": [
    "batch_X, batch_y = test.as_numpy_iterator().next()"
   ]
  },
  {
   "cell_type": "code",
   "execution_count": 36,
   "metadata": {
    "execution": {
     "iopub.execute_input": "2025-04-02T08:30:32.827778Z",
     "iopub.status.busy": "2025-04-02T08:30:32.827391Z",
     "iopub.status.idle": "2025-04-02T08:30:33.138236Z",
     "shell.execute_reply": "2025-04-02T08:30:33.137211Z",
     "shell.execute_reply.started": "2025-04-02T08:30:32.827747Z"
    },
    "tags": [],
    "trusted": true
   },
   "outputs": [
    {
     "name": "stdout",
     "output_type": "stream",
     "text": [
      "\u001b[1m1/1\u001b[0m \u001b[32m━━━━━━━━━━━━━━━━━━━━\u001b[0m\u001b[37m\u001b[0m \u001b[1m1s\u001b[0m 1s/step\n"
     ]
    },
    {
     "data": {
      "text/plain": [
       "array([[0, 0, 0, 1, 0, 1],\n",
       "       [0, 0, 0, 1, 0, 1],\n",
       "       [0, 0, 1, 1, 1, 1],\n",
       "       [0, 0, 0, 1, 0, 1],\n",
       "       [0, 0, 0, 1, 0, 1],\n",
       "       [0, 0, 0, 1, 0, 1],\n",
       "       [0, 0, 0, 1, 0, 1],\n",
       "       [0, 0, 0, 1, 0, 1],\n",
       "       [0, 0, 0, 1, 1, 1],\n",
       "       [0, 0, 0, 1, 0, 1],\n",
       "       [0, 0, 0, 1, 0, 1],\n",
       "       [0, 0, 0, 1, 1, 1],\n",
       "       [0, 0, 0, 1, 1, 1],\n",
       "       [0, 0, 0, 1, 1, 1],\n",
       "       [0, 0, 0, 1, 0, 1],\n",
       "       [0, 0, 0, 1, 0, 1]])"
      ]
     },
     "execution_count": 20,
     "metadata": {},
     "output_type": "execute_result"
    }
   ],
   "source": [
    "(model.predict(batch_X) > 0.5).astype(int)"
   ]
  },
  {
   "cell_type": "code",
   "execution_count": 37,
   "metadata": {
    "execution": {
     "iopub.execute_input": "2025-04-02T08:30:51.537843Z",
     "iopub.status.busy": "2025-04-02T08:30:51.537494Z",
     "iopub.status.idle": "2025-04-02T08:30:51.543498Z",
     "shell.execute_reply": "2025-04-02T08:30:51.542540Z",
     "shell.execute_reply.started": "2025-04-02T08:30:51.537813Z"
    },
    "trusted": true
   },
   "outputs": [
    {
     "data": {
      "text/plain": [
       "(1, 6)"
      ]
     },
     "execution_count": 21,
     "metadata": {},
     "output_type": "execute_result"
    }
   ],
   "source": [
    "res.shape"
   ]
  },
  {
   "cell_type": "markdown",
   "metadata": {},
   "source": [
    "# 4. Evaluate Model"
   ]
  },
  {
   "cell_type": "code",
   "execution_count": 9,
   "metadata": {
    "execution": {
     "iopub.execute_input": "2025-04-02T08:30:56.138679Z",
     "iopub.status.busy": "2025-04-02T08:30:56.138313Z",
     "iopub.status.idle": "2025-04-02T08:30:56.144209Z",
     "shell.execute_reply": "2025-04-02T08:30:56.143053Z",
     "shell.execute_reply.started": "2025-04-02T08:30:56.138638Z"
    },
    "tags": [],
    "trusted": true
   },
   "outputs": [],
   "source": [
    "from tensorflow.keras.metrics import Precision, Recall, CategoricalAccuracy"
   ]
  },
  {
   "cell_type": "code",
   "execution_count": 10,
   "metadata": {
    "execution": {
     "iopub.execute_input": "2025-04-02T08:30:56.383325Z",
     "iopub.status.busy": "2025-04-02T08:30:56.383025Z",
     "iopub.status.idle": "2025-04-02T08:30:56.399712Z",
     "shell.execute_reply": "2025-04-02T08:30:56.398680Z",
     "shell.execute_reply.started": "2025-04-02T08:30:56.383302Z"
    },
    "tags": [],
    "trusted": true
   },
   "outputs": [],
   "source": [
    "pre = Precision()\n",
    "re = Recall()\n",
    "acc = CategoricalAccuracy()"
   ]
  },
  {
   "cell_type": "code",
   "execution_count": 2,
   "metadata": {
    "execution": {
     "iopub.execute_input": "2025-04-02T08:30:57.871971Z",
     "iopub.status.busy": "2025-04-02T08:30:57.871540Z",
     "iopub.status.idle": "2025-04-02T08:33:00.272071Z",
     "shell.execute_reply": "2025-04-02T08:33:00.271115Z",
     "shell.execute_reply.started": "2025-04-02T08:30:57.871936Z"
    },
    "tags": [],
    "trusted": true
   },
   "outputs": [
    {
     "ename": "NameError",
     "evalue": "name 'test' is not defined",
     "output_type": "error",
     "traceback": [
      "\u001b[1;31m---------------------------------------------------------------------------\u001b[0m",
      "\u001b[1;31mNameError\u001b[0m                                 Traceback (most recent call last)",
      "Cell \u001b[1;32mIn[2], line 1\u001b[0m\n\u001b[1;32m----> 1\u001b[0m \u001b[38;5;28;01mfor\u001b[39;00m batch \u001b[38;5;129;01min\u001b[39;00m \u001b[43mtest\u001b[49m\u001b[38;5;241m.\u001b[39mas_numpy_iterator(): \n\u001b[0;32m      2\u001b[0m     \u001b[38;5;66;03m# Unpack the batch \u001b[39;00m\n\u001b[0;32m      3\u001b[0m     X_true, y_true \u001b[38;5;241m=\u001b[39m batch\n\u001b[0;32m      4\u001b[0m     \u001b[38;5;66;03m# Make a prediction \u001b[39;00m\n",
      "\u001b[1;31mNameError\u001b[0m: name 'test' is not defined"
     ]
    }
   ],
   "source": [
    "for batch in test.as_numpy_iterator(): \n",
    "    # Unpack the batch \n",
    "    X_true, y_true = batch\n",
    "    # Make a prediction \n",
    "    yhat = model.predict(X_true)\n",
    "    \n",
    "    # Flatten the predictions\n",
    "    y_true = y_true.flatten()\n",
    "    yhat = yhat.flatten()\n",
    "    \n",
    "    pre.update_state(y_true, yhat)\n",
    "    re.update_state(y_true, yhat)\n",
    "    acc.update_state(y_true, yhat)"
   ]
  },
  {
   "cell_type": "code",
   "execution_count": 1,
   "metadata": {
    "execution": {
     "iopub.execute_input": "2025-04-02T08:33:00.287970Z",
     "iopub.status.busy": "2025-04-02T08:33:00.287662Z",
     "iopub.status.idle": "2025-04-02T08:33:00.300697Z",
     "shell.execute_reply": "2025-04-02T08:33:00.299692Z",
     "shell.execute_reply.started": "2025-04-02T08:33:00.287945Z"
    },
    "tags": [],
    "trusted": true
   },
   "outputs": [
    {
     "ename": "NameError",
     "evalue": "name 'pre' is not defined",
     "output_type": "error",
     "traceback": [
      "\u001b[1;31m---------------------------------------------------------------------------\u001b[0m",
      "\u001b[1;31mNameError\u001b[0m                                 Traceback (most recent call last)",
      "Cell \u001b[1;32mIn[1], line 1\u001b[0m\n\u001b[1;32m----> 1\u001b[0m \u001b[38;5;28mprint\u001b[39m(\u001b[38;5;124mf\u001b[39m\u001b[38;5;124m'\u001b[39m\u001b[38;5;124mPrecision: \u001b[39m\u001b[38;5;132;01m{\u001b[39;00m\u001b[43mpre\u001b[49m\u001b[38;5;241m.\u001b[39mresult()\u001b[38;5;241m.\u001b[39mnumpy()\u001b[38;5;132;01m}\u001b[39;00m\u001b[38;5;124m, Recall:\u001b[39m\u001b[38;5;132;01m{\u001b[39;00mre\u001b[38;5;241m.\u001b[39mresult()\u001b[38;5;241m.\u001b[39mnumpy()\u001b[38;5;132;01m}\u001b[39;00m\u001b[38;5;124m, Accuracy:\u001b[39m\u001b[38;5;132;01m{\u001b[39;00macc\u001b[38;5;241m.\u001b[39mresult()\u001b[38;5;241m.\u001b[39mnumpy()\u001b[38;5;132;01m}\u001b[39;00m\u001b[38;5;124m'\u001b[39m)\n",
      "\u001b[1;31mNameError\u001b[0m: name 'pre' is not defined"
     ]
    }
   ],
   "source": [
    "print(f'Precision: {pre.result().numpy()}, Recall:{re.result().numpy()}, Accuracy:{acc.result().numpy()}')"
   ]
  },
  {
   "cell_type": "markdown",
   "metadata": {},
   "source": [
    "# 5. Test and Gradio"
   ]
  },
  {
   "cell_type": "code",
   "execution_count": 34,
   "metadata": {
    "execution": {
     "iopub.execute_input": "2025-04-02T08:33:00.302591Z",
     "iopub.status.busy": "2025-04-02T08:33:00.302263Z",
     "iopub.status.idle": "2025-04-02T08:33:00.486651Z",
     "shell.execute_reply": "2025-04-02T08:33:00.485991Z",
     "shell.execute_reply.started": "2025-04-02T08:33:00.302556Z"
    },
    "tags": [],
    "trusted": true
   },
   "outputs": [],
   "source": [
    "model.save('toxicity.h5')"
   ]
  },
  {
   "cell_type": "code",
   "execution_count": 39,
   "metadata": {
    "execution": {
     "iopub.execute_input": "2025-04-02T08:33:00.488085Z",
     "iopub.status.busy": "2025-04-02T08:33:00.487808Z",
     "iopub.status.idle": "2025-04-02T08:33:11.693296Z",
     "shell.execute_reply": "2025-04-02T08:33:11.692293Z",
     "shell.execute_reply.started": "2025-04-02T08:33:00.488061Z"
    },
    "tags": [],
    "trusted": true
   },
   "outputs": [
    {
     "name": "stdout",
     "output_type": "stream",
     "text": [
      "Defaulting to user installation because normal site-packages is not writeable\n",
      "Requirement already satisfied: gradio in c:\\users\\atharva darkonde\\appdata\\roaming\\python\\python312\\site-packages (5.23.1)\n",
      "Requirement already satisfied: jinja2 in c:\\users\\atharva darkonde\\appdata\\roaming\\python\\python312\\site-packages (3.1.4)\n",
      "Requirement already satisfied: aiofiles<24.0,>=22.0 in c:\\users\\atharva darkonde\\appdata\\roaming\\python\\python312\\site-packages (from gradio) (23.2.1)\n",
      "Requirement already satisfied: anyio<5.0,>=3.0 in c:\\users\\atharva darkonde\\appdata\\roaming\\python\\python312\\site-packages (from gradio) (4.4.0)\n",
      "Requirement already satisfied: fastapi<1.0,>=0.115.2 in c:\\users\\atharva darkonde\\appdata\\roaming\\python\\python312\\site-packages (from gradio) (0.115.12)\n",
      "Requirement already satisfied: ffmpy in c:\\users\\atharva darkonde\\appdata\\roaming\\python\\python312\\site-packages (from gradio) (0.5.0)\n",
      "Requirement already satisfied: gradio-client==1.8.0 in c:\\users\\atharva darkonde\\appdata\\roaming\\python\\python312\\site-packages (from gradio) (1.8.0)\n",
      "Requirement already satisfied: groovy~=0.1 in c:\\users\\atharva darkonde\\appdata\\roaming\\python\\python312\\site-packages (from gradio) (0.1.2)\n",
      "Requirement already satisfied: httpx>=0.24.1 in c:\\users\\atharva darkonde\\appdata\\roaming\\python\\python312\\site-packages (from gradio) (0.27.0)\n",
      "Requirement already satisfied: huggingface-hub>=0.28.1 in c:\\users\\atharva darkonde\\appdata\\roaming\\python\\python312\\site-packages (from gradio) (0.29.0)\n",
      "Requirement already satisfied: markupsafe<4.0,>=2.0 in c:\\users\\atharva darkonde\\appdata\\roaming\\python\\python312\\site-packages (from gradio) (2.1.5)\n",
      "Requirement already satisfied: numpy<3.0,>=1.0 in c:\\users\\atharva darkonde\\appdata\\roaming\\python\\python312\\site-packages (from gradio) (2.0.2)\n",
      "Requirement already satisfied: orjson~=3.0 in c:\\users\\atharva darkonde\\appdata\\roaming\\python\\python312\\site-packages (from gradio) (3.10.16)\n",
      "Requirement already satisfied: packaging in c:\\users\\atharva darkonde\\appdata\\roaming\\python\\python312\\site-packages (from gradio) (24.1)\n",
      "Requirement already satisfied: pandas<3.0,>=1.0 in c:\\users\\atharva darkonde\\appdata\\roaming\\python\\python312\\site-packages (from gradio) (2.2.3)\n",
      "Requirement already satisfied: pillow<12.0,>=8.0 in c:\\users\\atharva darkonde\\appdata\\roaming\\python\\python312\\site-packages (from gradio) (10.4.0)\n",
      "Requirement already satisfied: pydantic>=2.0 in c:\\users\\atharva darkonde\\appdata\\roaming\\python\\python312\\site-packages (from gradio) (2.10.6)\n",
      "Requirement already satisfied: pydub in c:\\users\\atharva darkonde\\appdata\\roaming\\python\\python312\\site-packages (from gradio) (0.25.1)\n",
      "Requirement already satisfied: python-multipart>=0.0.18 in c:\\users\\atharva darkonde\\appdata\\roaming\\python\\python312\\site-packages (from gradio) (0.0.20)\n",
      "Requirement already satisfied: pyyaml<7.0,>=5.0 in c:\\users\\atharva darkonde\\appdata\\roaming\\python\\python312\\site-packages (from gradio) (6.0.2)\n",
      "Requirement already satisfied: ruff>=0.9.3 in c:\\users\\atharva darkonde\\appdata\\roaming\\python\\python312\\site-packages (from gradio) (0.11.2)\n",
      "Requirement already satisfied: safehttpx<0.2.0,>=0.1.6 in c:\\users\\atharva darkonde\\appdata\\roaming\\python\\python312\\site-packages (from gradio) (0.1.6)\n",
      "Requirement already satisfied: semantic-version~=2.0 in c:\\users\\atharva darkonde\\appdata\\roaming\\python\\python312\\site-packages (from gradio) (2.10.0)\n",
      "Requirement already satisfied: starlette<1.0,>=0.40.0 in c:\\users\\atharva darkonde\\appdata\\roaming\\python\\python312\\site-packages (from gradio) (0.46.1)\n",
      "Requirement already satisfied: tomlkit<0.14.0,>=0.12.0 in c:\\users\\atharva darkonde\\appdata\\roaming\\python\\python312\\site-packages (from gradio) (0.13.2)\n",
      "Requirement already satisfied: typer<1.0,>=0.12 in c:\\users\\atharva darkonde\\appdata\\roaming\\python\\python312\\site-packages (from gradio) (0.15.2)\n",
      "Requirement already satisfied: typing-extensions~=4.0 in c:\\users\\atharva darkonde\\appdata\\roaming\\python\\python312\\site-packages (from gradio) (4.12.2)\n",
      "Requirement already satisfied: uvicorn>=0.14.0 in c:\\users\\atharva darkonde\\appdata\\roaming\\python\\python312\\site-packages (from gradio) (0.34.0)\n",
      "Requirement already satisfied: fsspec in c:\\users\\atharva darkonde\\appdata\\roaming\\python\\python312\\site-packages (from gradio-client==1.8.0->gradio) (2025.2.0)\n",
      "Requirement already satisfied: websockets<16.0,>=10.0 in c:\\users\\atharva darkonde\\appdata\\roaming\\python\\python312\\site-packages (from gradio-client==1.8.0->gradio) (15.0.1)\n",
      "Requirement already satisfied: idna>=2.8 in c:\\users\\atharva darkonde\\appdata\\roaming\\python\\python312\\site-packages (from anyio<5.0,>=3.0->gradio) (3.7)\n",
      "Requirement already satisfied: sniffio>=1.1 in c:\\users\\atharva darkonde\\appdata\\roaming\\python\\python312\\site-packages (from anyio<5.0,>=3.0->gradio) (1.3.1)\n",
      "Requirement already satisfied: certifi in c:\\users\\atharva darkonde\\appdata\\roaming\\python\\python312\\site-packages (from httpx>=0.24.1->gradio) (2024.7.4)\n",
      "Requirement already satisfied: httpcore==1.* in c:\\users\\atharva darkonde\\appdata\\roaming\\python\\python312\\site-packages (from httpx>=0.24.1->gradio) (1.0.5)\n",
      "Requirement already satisfied: h11<0.15,>=0.13 in c:\\users\\atharva darkonde\\appdata\\roaming\\python\\python312\\site-packages (from httpcore==1.*->httpx>=0.24.1->gradio) (0.14.0)\n",
      "Requirement already satisfied: filelock in c:\\users\\atharva darkonde\\appdata\\roaming\\python\\python312\\site-packages (from huggingface-hub>=0.28.1->gradio) (3.17.0)\n",
      "Requirement already satisfied: requests in c:\\users\\atharva darkonde\\appdata\\roaming\\python\\python312\\site-packages (from huggingface-hub>=0.28.1->gradio) (2.32.3)\n",
      "Requirement already satisfied: tqdm>=4.42.1 in c:\\users\\atharva darkonde\\appdata\\roaming\\python\\python312\\site-packages (from huggingface-hub>=0.28.1->gradio) (4.66.4)\n",
      "Requirement already satisfied: python-dateutil>=2.8.2 in c:\\users\\atharva darkonde\\appdata\\roaming\\python\\python312\\site-packages (from pandas<3.0,>=1.0->gradio) (2.9.0.post0)\n",
      "Requirement already satisfied: pytz>=2020.1 in c:\\users\\atharva darkonde\\appdata\\roaming\\python\\python312\\site-packages (from pandas<3.0,>=1.0->gradio) (2024.2)\n",
      "Requirement already satisfied: tzdata>=2022.7 in c:\\users\\atharva darkonde\\appdata\\roaming\\python\\python312\\site-packages (from pandas<3.0,>=1.0->gradio) (2024.2)\n",
      "Requirement already satisfied: annotated-types>=0.6.0 in c:\\users\\atharva darkonde\\appdata\\roaming\\python\\python312\\site-packages (from pydantic>=2.0->gradio) (0.7.0)\n",
      "Requirement already satisfied: pydantic-core==2.27.2 in c:\\users\\atharva darkonde\\appdata\\roaming\\python\\python312\\site-packages (from pydantic>=2.0->gradio) (2.27.2)\n",
      "Requirement already satisfied: click>=8.0.0 in c:\\users\\atharva darkonde\\appdata\\roaming\\python\\python312\\site-packages (from typer<1.0,>=0.12->gradio) (8.1.7)\n",
      "Requirement already satisfied: shellingham>=1.3.0 in c:\\users\\atharva darkonde\\appdata\\roaming\\python\\python312\\site-packages (from typer<1.0,>=0.12->gradio) (1.5.4)\n",
      "Requirement already satisfied: rich>=10.11.0 in c:\\users\\atharva darkonde\\appdata\\roaming\\python\\python312\\site-packages (from typer<1.0,>=0.12->gradio) (13.9.4)\n",
      "Requirement already satisfied: colorama in c:\\users\\atharva darkonde\\appdata\\roaming\\python\\python312\\site-packages (from click>=8.0.0->typer<1.0,>=0.12->gradio) (0.4.6)\n",
      "Requirement already satisfied: six>=1.5 in c:\\users\\atharva darkonde\\appdata\\roaming\\python\\python312\\site-packages (from python-dateutil>=2.8.2->pandas<3.0,>=1.0->gradio) (1.16.0)\n",
      "Requirement already satisfied: markdown-it-py>=2.2.0 in c:\\users\\atharva darkonde\\appdata\\roaming\\python\\python312\\site-packages (from rich>=10.11.0->typer<1.0,>=0.12->gradio) (3.0.0)\n",
      "Requirement already satisfied: pygments<3.0.0,>=2.13.0 in c:\\users\\atharva darkonde\\appdata\\roaming\\python\\python312\\site-packages (from rich>=10.11.0->typer<1.0,>=0.12->gradio) (2.18.0)\n",
      "Requirement already satisfied: charset-normalizer<4,>=2 in c:\\users\\atharva darkonde\\appdata\\roaming\\python\\python312\\site-packages (from requests->huggingface-hub>=0.28.1->gradio) (3.4.1)\n",
      "Requirement already satisfied: urllib3<3,>=1.21.1 in c:\\users\\atharva darkonde\\appdata\\roaming\\python\\python312\\site-packages (from requests->huggingface-hub>=0.28.1->gradio) (2.3.0)\n",
      "Requirement already satisfied: mdurl~=0.1 in c:\\users\\atharva darkonde\\appdata\\roaming\\python\\python312\\site-packages (from markdown-it-py>=2.2.0->rich>=10.11.0->typer<1.0,>=0.12->gradio) (0.1.2)\n"
     ]
    }
   ],
   "source": [
    "!pip install gradio jinja2"
   ]
  },
  {
   "cell_type": "code",
   "execution_count": 2,
   "metadata": {
    "execution": {
     "iopub.execute_input": "2025-04-02T08:33:11.694830Z",
     "iopub.status.busy": "2025-04-02T08:33:11.694467Z",
     "iopub.status.idle": "2025-04-02T08:33:15.742604Z",
     "shell.execute_reply": "2025-04-02T08:33:15.741837Z",
     "shell.execute_reply.started": "2025-04-02T08:33:11.694802Z"
    },
    "tags": [],
    "trusted": true
   },
   "outputs": [
    {
     "name": "stderr",
     "output_type": "stream",
     "text": [
      "C:\\Users\\Atharva Darkonde\\AppData\\Roaming\\Python\\Python312\\site-packages\\tqdm\\auto.py:21: TqdmWarning: IProgress not found. Please update jupyter and ipywidgets. See https://ipywidgets.readthedocs.io/en/stable/user_install.html\n",
      "  from .autonotebook import tqdm as notebook_tqdm\n"
     ]
    }
   ],
   "source": [
    "import tensorflow as tf\n",
    "import gradio as gr"
   ]
  },
  {
   "cell_type": "code",
   "execution_count": 27,
   "metadata": {},
   "outputs": [],
   "source": [
    "from tensorflow.keras.layers import TextVectorization\n",
    "MAX_FEATURES = 200000 # number of words in the vocab\n",
    "vectorizer = TextVectorization(max_tokens=MAX_FEATURES,\n",
    "                               output_sequence_length=1800,\n",
    "                               output_mode='int')\n",
    "vectorizer.adapt(X.values)"
   ]
  },
  {
   "cell_type": "code",
   "execution_count": 28,
   "metadata": {
    "execution": {
     "iopub.execute_input": "2025-04-02T08:33:15.744258Z",
     "iopub.status.busy": "2025-04-02T08:33:15.743509Z",
     "iopub.status.idle": "2025-04-02T08:33:17.123807Z",
     "shell.execute_reply": "2025-04-02T08:33:17.123095Z",
     "shell.execute_reply.started": "2025-04-02T08:33:15.744222Z"
    },
    "tags": [],
    "trusted": true
   },
   "outputs": [
    {
     "name": "stderr",
     "output_type": "stream",
     "text": [
      "WARNING:absl:Compiled the loaded model, but the compiled metrics have yet to be built. `model.compile_metrics` will be empty until you train or evaluate the model.\n"
     ]
    }
   ],
   "source": [
    "model = tf.keras.models.load_model('toxicity.h5')"
   ]
  },
  {
   "cell_type": "code",
   "execution_count": 43,
   "metadata": {
    "execution": {
     "iopub.execute_input": "2025-04-02T08:33:17.126335Z",
     "iopub.status.busy": "2025-04-02T08:33:17.126080Z",
     "iopub.status.idle": "2025-04-02T08:33:17.143538Z",
     "shell.execute_reply": "2025-04-02T08:33:17.142793Z",
     "shell.execute_reply.started": "2025-04-02T08:33:17.126312Z"
    },
    "tags": [],
    "trusted": true
   },
   "outputs": [],
   "source": [
    "input_str = vectorizer('hey i freaken hate you!')"
   ]
  },
  {
   "cell_type": "code",
   "execution_count": 44,
   "metadata": {
    "execution": {
     "iopub.execute_input": "2025-04-02T08:33:17.144737Z",
     "iopub.status.busy": "2025-04-02T08:33:17.144501Z",
     "iopub.status.idle": "2025-04-02T08:33:17.447208Z",
     "shell.execute_reply": "2025-04-02T08:33:17.445427Z",
     "shell.execute_reply.started": "2025-04-02T08:33:17.144702Z"
    },
    "tags": [],
    "trusted": true
   },
   "outputs": [
    {
     "name": "stdout",
     "output_type": "stream",
     "text": [
      "\u001b[1m1/1\u001b[0m \u001b[32m━━━━━━━━━━━━━━━━━━━━\u001b[0m\u001b[37m\u001b[0m \u001b[1m1s\u001b[0m 650ms/step\n"
     ]
    }
   ],
   "source": [
    "res = model.predict(np.expand_dims(input_str,0))"
   ]
  },
  {
   "cell_type": "code",
   "execution_count": 45,
   "metadata": {
    "execution": {
     "iopub.execute_input": "2025-04-02T08:33:17.448867Z",
     "iopub.status.busy": "2025-04-02T08:33:17.448549Z",
     "iopub.status.idle": "2025-04-02T08:33:17.455132Z",
     "shell.execute_reply": "2025-04-02T08:33:17.454063Z",
     "shell.execute_reply.started": "2025-04-02T08:33:17.448833Z"
    },
    "tags": [],
    "trusted": true
   },
   "outputs": [
    {
     "data": {
      "text/plain": [
       "array([[0.876179  , 0.00162066, 0.07148195, 0.01161802, 0.35377595,\n",
       "        0.06644098]], dtype=float32)"
      ]
     },
     "execution_count": 45,
     "metadata": {},
     "output_type": "execute_result"
    }
   ],
   "source": [
    "res"
   ]
  },
  {
   "cell_type": "code",
   "execution_count": 29,
   "metadata": {
    "execution": {
     "iopub.execute_input": "2025-04-02T08:39:56.822846Z",
     "iopub.status.busy": "2025-04-02T08:39:56.822511Z",
     "iopub.status.idle": "2025-04-02T08:39:56.828252Z",
     "shell.execute_reply": "2025-04-02T08:39:56.827261Z",
     "shell.execute_reply.started": "2025-04-02T08:39:56.822821Z"
    },
    "tags": [],
    "trusted": true
   },
   "outputs": [],
   "source": [
    "def score_comment(comment):\n",
    "    vectorized_comment = vectorizer([comment])\n",
    "    results = model.predict(vectorized_comment)\n",
    "    print(results[0])\n",
    "    text = ''\n",
    "    for idx, col in enumerate(df.columns[2:]):\n",
    "        if(idx == 3): \n",
    "            text += '{}: {}\\n'.format(col, results[0][idx]>0.2)\n",
    "        else: \n",
    "            text += '{}: {}\\n'.format(col, results[0][idx]>0.3)\n",
    "            \n",
    "    return text"
   ]
  },
  {
   "cell_type": "code",
   "execution_count": 48,
   "metadata": {
    "execution": {
     "iopub.execute_input": "2025-04-02T08:39:57.138797Z",
     "iopub.status.busy": "2025-04-02T08:39:57.138438Z",
     "iopub.status.idle": "2025-04-02T08:39:57.255392Z",
     "shell.execute_reply": "2025-04-02T08:39:57.254401Z",
     "shell.execute_reply.started": "2025-04-02T08:39:57.138765Z"
    },
    "trusted": true
   },
   "outputs": [
    {
     "name": "stdout",
     "output_type": "stream",
     "text": [
      "\u001b[1m1/1\u001b[0m \u001b[32m━━━━━━━━━━━━━━━━━━━━\u001b[0m\u001b[37m\u001b[0m \u001b[1m0s\u001b[0m 146ms/step\n",
      "[2.3013351e-02 7.7967416e-06 3.4964387e-04 1.6197632e-04 1.0625486e-03\n",
      " 5.7571358e-04]\n"
     ]
    },
    {
     "data": {
      "text/plain": [
       "'toxic: False\\nsevere_toxic: False\\nobscene: False\\nthreat: False\\ninsult: False\\nidentity_hate: False\\n'"
      ]
     },
     "execution_count": 48,
     "metadata": {},
     "output_type": "execute_result"
    }
   ],
   "source": [
    "score_comment(\"I just saw a man running naked on street\")"
   ]
  },
  {
   "cell_type": "code",
   "execution_count": 30,
   "metadata": {
    "execution": {
     "iopub.execute_input": "2025-04-02T08:33:17.474082Z",
     "iopub.status.busy": "2025-04-02T08:33:17.473802Z",
     "iopub.status.idle": "2025-04-02T08:33:17.560257Z",
     "shell.execute_reply": "2025-04-02T08:33:17.559011Z",
     "shell.execute_reply.started": "2025-04-02T08:33:17.474048Z"
    },
    "tags": [],
    "trusted": true
   },
   "outputs": [],
   "source": [
    "\n",
    "\n",
    "import gradio as gr\n",
    "\n",
    "interface = gr.Interface(\n",
    "    fn=score_comment, \n",
    "    inputs=gr.Textbox(lines=2, placeholder='Comment to score'),\n",
    "    outputs=gr.Textbox()\n",
    ")\n",
    "\n",
    "\n"
   ]
  },
  {
   "cell_type": "code",
   "execution_count": null,
   "metadata": {
    "execution": {
     "iopub.status.busy": "2025-04-02T08:33:17.560862Z",
     "iopub.status.idle": "2025-04-02T08:33:17.561222Z",
     "shell.execute_reply": "2025-04-02T08:33:17.561099Z"
    },
    "tags": [],
    "trusted": true
   },
   "outputs": [
    {
     "name": "stdout",
     "output_type": "stream",
     "text": [
      "* Running on local URL:  http://127.0.0.1:7860\n",
      "\n",
      "Could not create share link. Please check your internet connection or our status page: https://status.gradio.app.\n"
     ]
    },
    {
     "data": {
      "text/html": [
       "<div><iframe src=\"http://127.0.0.1:7860/\" width=\"100%\" height=\"500\" allow=\"autoplay; camera; microphone; clipboard-read; clipboard-write;\" frameborder=\"0\" allowfullscreen></iframe></div>"
      ],
      "text/plain": [
       "<IPython.core.display.HTML object>"
      ]
     },
     "metadata": {},
     "output_type": "display_data"
    },
    {
     "data": {
      "text/plain": []
     },
     "execution_count": 31,
     "metadata": {},
     "output_type": "execute_result"
    },
    {
     "name": "stdout",
     "output_type": "stream",
     "text": [
      "\u001b[1m1/1\u001b[0m \u001b[32m━━━━━━━━━━━━━━━━━━━━\u001b[0m\u001b[37m\u001b[0m \u001b[1m1s\u001b[0m 964ms/step\n",
      "[7.8866822e-01 7.2185823e-04 3.2794494e-02 8.9074047e-03 1.7814541e-01\n",
      " 4.4356577e-02]\n",
      "\u001b[1m1/1\u001b[0m \u001b[32m━━━━━━━━━━━━━━━━━━━━\u001b[0m\u001b[37m\u001b[0m \u001b[1m0s\u001b[0m 267ms/step\n",
      "[0.68966436 0.0949375  0.12482568 0.20166573 0.21795386 0.26244476]\n",
      "\u001b[1m1/1\u001b[0m \u001b[32m━━━━━━━━━━━━━━━━━━━━\u001b[0m\u001b[37m\u001b[0m \u001b[1m0s\u001b[0m 249ms/step\n",
      "[1.5776029e-02 6.5556860e-06 2.1224747e-04 1.3455159e-04 6.1323110e-04\n",
      " 4.7390765e-04]\n",
      "\u001b[1m1/1\u001b[0m \u001b[32m━━━━━━━━━━━━━━━━━━━━\u001b[0m\u001b[37m\u001b[0m \u001b[1m0s\u001b[0m 254ms/step\n",
      "[0.9943132  0.08158457 0.9486145  0.00484567 0.77684945 0.03717592]\n",
      "\u001b[1m1/1\u001b[0m \u001b[32m━━━━━━━━━━━━━━━━━━━━\u001b[0m\u001b[37m\u001b[0m \u001b[1m0s\u001b[0m 286ms/step\n",
      "[0.98222715 0.03313353 0.6664841  0.02118688 0.82284784 0.14692523]\n",
      "\u001b[1m1/1\u001b[0m \u001b[32m━━━━━━━━━━━━━━━━━━━━\u001b[0m\u001b[37m\u001b[0m \u001b[1m0s\u001b[0m 231ms/step\n",
      "[0.760712   0.11312202 0.15198974 0.24345943 0.28234813 0.3377989 ]\n",
      "\u001b[1m1/1\u001b[0m \u001b[32m━━━━━━━━━━━━━━━━━━━━\u001b[0m\u001b[37m\u001b[0m \u001b[1m0s\u001b[0m 245ms/step\n",
      "[0.7310101  0.00935192 0.07280605 0.07939107 0.316531   0.19834308]\n",
      "\u001b[1m1/1\u001b[0m \u001b[32m━━━━━━━━━━━━━━━━━━━━\u001b[0m\u001b[37m\u001b[0m \u001b[1m0s\u001b[0m 258ms/step\n",
      "[0.888558   0.20304048 0.26726788 0.26067778 0.40757015 0.42153302]\n",
      "\u001b[1m1/1\u001b[0m \u001b[32m━━━━━━━━━━━━━━━━━━━━\u001b[0m\u001b[37m\u001b[0m \u001b[1m0s\u001b[0m 308ms/step\n",
      "[0.9899466  0.2639738  0.93226314 0.04376816 0.7840148  0.17628953]\n",
      "\u001b[1m1/1\u001b[0m \u001b[32m━━━━━━━━━━━━━━━━━━━━\u001b[0m\u001b[37m\u001b[0m \u001b[1m0s\u001b[0m 286ms/step\n",
      "[0.26314583 0.00052467 0.0078807  0.01129026 0.03540884 0.025141  ]\n"
     ]
    }
   ],
   "source": [
    "interface.launch(share=True)"
   ]
  },
  {
   "cell_type": "code",
   "execution_count": null,
   "metadata": {
    "trusted": true
   },
   "outputs": [],
   "source": []
  }
 ],
 "metadata": {
  "kaggle": {
   "accelerator": "gpu",
   "dataSources": [
    {
     "datasetId": 1709138,
     "sourceId": 2798066,
     "sourceType": "datasetVersion"
    }
   ],
   "dockerImageVersionId": 30919,
   "isGpuEnabled": true,
   "isInternetEnabled": true,
   "language": "python",
   "sourceType": "notebook"
  },
  "kernelspec": {
   "display_name": "Python 3",
   "language": "python",
   "name": "python3"
  },
  "language_info": {
   "codemirror_mode": {
    "name": "ipython",
    "version": 3
   },
   "file_extension": ".py",
   "mimetype": "text/x-python",
   "name": "python",
   "nbconvert_exporter": "python",
   "pygments_lexer": "ipython3",
   "version": "3.12.4"
  }
 },
 "nbformat": 4,
 "nbformat_minor": 4
}
